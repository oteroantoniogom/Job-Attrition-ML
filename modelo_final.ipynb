{
 "cells": [
  {
   "attachments": {},
   "cell_type": "markdown",
   "metadata": {},
   "source": [
    "<center><img src=\"https://www.pctleganes.org/images/asociados/uc3m.jpg\" alt=\"UC3M Banner\"/></center>\n",
    "\n",
    "---\n",
    "# PRÁCTICA 2: PREDICCIÓN DEL ABANDONO (BURNOUT) DE EMPLEADOS\n",
    "\n",
    "**Realizado por:**\n",
    "| NIA | NOMBRE |\n",
    "| ------ | ------ |\n",
    "| 100432074 | Diego Alonso Herreruela | \n",
    "| 100432274 | Antonio Gómez Otero |\n",
    "---"
   ]
  },
  {
   "attachments": {},
   "cell_type": "markdown",
   "metadata": {},
   "source": [
    "# MODELO FINAL"
   ]
  },
  {
   "attachments": {},
   "cell_type": "markdown",
   "metadata": {},
   "source": [
    "## Introducción"
   ]
  },
  {
   "attachments": {},
   "cell_type": "markdown",
   "metadata": {},
   "source": [
    "En estos apartados se va a desarrollar el **modelo final de predicción de abandono de clientes** utilizando la técnica de selección de características por filtrado. Basándonos en los resultados obtenidos en la práctica anterior, se ha decidido utilizar el modelo HistGradientBoosting debido a su buen rendimiento en términos de precisión y tiempo de ejecución. Ahora, con la implementación de la selección de características, se espera mejorar aún más el rendimiento del modelo final. En este archivo se llevará a cabo la creación del modelo, su ajuste y finalmente se generarán las predicciones para la competición."
   ]
  },
  {
   "cell_type": "code",
   "execution_count": 1,
   "metadata": {},
   "outputs": [],
   "source": [
    "# Tratamiento de datos\n",
    "# ==============================================================================\n",
    "import pandas as pd\n",
    "import numpy as np\n",
    "import pickle\n",
    "\n",
    "# Control de tiempos\n",
    "# ==============================================================================\n",
    "import time\n",
    "\n",
    "# Preprocesado\n",
    "# ==============================================================================\n",
    "from sklearn.model_selection import train_test_split\n",
    "from sklearn import preprocessing\n",
    "from sklearn.decomposition import PCA\n",
    "from sklearn.impute import SimpleImputer, KNNImputer\n",
    "from sklearn.preprocessing import RobustScaler, OneHotEncoder\n",
    "from sklearn.compose import ColumnTransformer\n",
    "\n",
    "# Gradient Boosting\n",
    "# ==============================================================================\n",
    "from sklearn.ensemble import HistGradientBoostingClassifier\n",
    "\n",
    "# Pipeline\n",
    "# ==============================================================================\n",
    "from sklearn.pipeline import Pipeline"
   ]
  },
  {
   "attachments": {},
   "cell_type": "markdown",
   "metadata": {},
   "source": [
    "Volvemos a tratar los datos que habíamos visto anteriormente."
   ]
  },
  {
   "cell_type": "code",
   "execution_count": 2,
   "metadata": {},
   "outputs": [
    {
     "data": {
      "text/plain": [
       "hrs                        4406\n",
       "absences                     24\n",
       "JobInvolvement                4\n",
       "PerformanceRating             2\n",
       "EnvironmentSatisfaction       4\n",
       "JobSatisfaction               4\n",
       "WorkLifeBalance               4\n",
       "Age                          43\n",
       "Attrition                     2\n",
       "BusinessTravel                3\n",
       "Department                    3\n",
       "DistanceFromHome             29\n",
       "Education                     5\n",
       "EducationField                6\n",
       "EmployeeCount                 1\n",
       "EmployeeID                 3644\n",
       "Gender                        2\n",
       "JobLevel                      5\n",
       "JobRole                       9\n",
       "MaritalStatus                 3\n",
       "MonthlyIncome              1341\n",
       "NumCompaniesWorked           10\n",
       "Over18                        1\n",
       "PercentSalaryHike            15\n",
       "StandardHours                 1\n",
       "StockOptionLevel              4\n",
       "TotalWorkingYears            40\n",
       "TrainingTimesLastYear         7\n",
       "YearsAtCompany               37\n",
       "YearsSinceLastPromotion      16\n",
       "YearsWithCurrManager         18\n",
       "dtype: int64"
      ]
     },
     "execution_count": 2,
     "metadata": {},
     "output_type": "execute_result"
    }
   ],
   "source": [
    "with open(\"attrition_available_22.pkl\", 'rb') as file:\n",
    "    disp_df = pickle.load(file)\n",
    "disp_df.nunique()"
   ]
  },
  {
   "attachments": {},
   "cell_type": "markdown",
   "metadata": {},
   "source": [
    "---\n",
    "## Creación del modelo final"
   ]
  },
  {
   "attachments": {},
   "cell_type": "markdown",
   "metadata": {},
   "source": [
    "Aquí volvemos a presentar el desbalanceo en la variable de salida."
   ]
  },
  {
   "cell_type": "code",
   "execution_count": 3,
   "metadata": {},
   "outputs": [
    {
     "data": {
      "text/plain": [
       "No     3699\n",
       "Yes     711\n",
       "Name: Attrition, dtype: int64"
      ]
     },
     "execution_count": 3,
     "metadata": {},
     "output_type": "execute_result"
    }
   ],
   "source": [
    "X_df = disp_df.drop('Attrition', axis=1)\n",
    "attri_count = disp_df['Attrition'].value_counts()\n",
    "y_df = disp_df.Attrition\n",
    "y_df.value_counts()"
   ]
  },
  {
   "attachments": {},
   "cell_type": "markdown",
   "metadata": {},
   "source": [
    "Aquí procedemos a quitar las variables que hemos considerado menos relevantes."
   ]
  },
  {
   "cell_type": "code",
   "execution_count": 4,
   "metadata": {},
   "outputs": [
    {
     "name": "stdout",
     "output_type": "stream",
     "text": [
      "La forma de la tabla original, disp_df, es de:\n",
      "===============================\n",
      "4410 filas y 31 columnas\n",
      "\n",
      "La forma de la tabla modificada, X_df (también sin Attrition), es de:\n",
      "===============================\n",
      "4410 filas y 22 columnas\n",
      "\n"
     ]
    }
   ],
   "source": [
    "# Borrado de las variables que no interesan\n",
    "X_df.drop(['EmployeeCount', 'EmployeeID', 'Gender', 'StandardHours', 'Over18', 'DistanceFromHome', 'Department', 'PerformanceRating'], axis=1, inplace=True)\n",
    "print('La forma de la tabla original, disp_df, es de:')\n",
    "print('===============================')\n",
    "print(str(len(disp_df.index)) + ' filas y ' + str(len(disp_df.columns)) + ' columnas')\n",
    "print()\n",
    "print('La forma de la tabla modificada, X_df (también sin Attrition), es de:')\n",
    "print('===============================')\n",
    "print(str(len(X_df.index)) + ' filas y ' + str(len(X_df.columns)) + ' columnas')\n",
    "print()"
   ]
  },
  {
   "attachments": {},
   "cell_type": "markdown",
   "metadata": {},
   "source": [
    "Entrenamos y aplicamos el preprocesador."
   ]
  },
  {
   "cell_type": "code",
   "execution_count": 5,
   "metadata": {},
   "outputs": [],
   "source": [
    "X_train, X_test, y_train, y_test = train_test_split(X_df, y_df, stratify=y_df, test_size=0.2)"
   ]
  },
  {
   "cell_type": "code",
   "execution_count": 6,
   "metadata": {},
   "outputs": [],
   "source": [
    "le = preprocessing.LabelEncoder()\n",
    "le.fit(y_df)\n",
    "\n",
    "y_test = le.transform(y_test)\n",
    "y_train = le.transform (y_train)"
   ]
  },
  {
   "cell_type": "code",
   "execution_count": 7,
   "metadata": {},
   "outputs": [],
   "source": [
    "num_cols = X_train.select_dtypes(exclude=\"object\").columns\n",
    "cat_cols = X_train.select_dtypes(include=\"object\").columns\n",
    "X_train[cat_cols] = X_train[cat_cols].astype('category')"
   ]
  },
  {
   "cell_type": "code",
   "execution_count": 8,
   "metadata": {},
   "outputs": [
    {
     "data": {
      "text/html": [
       "<style>#sk-container-id-1 {color: black;background-color: white;}#sk-container-id-1 pre{padding: 0;}#sk-container-id-1 div.sk-toggleable {background-color: white;}#sk-container-id-1 label.sk-toggleable__label {cursor: pointer;display: block;width: 100%;margin-bottom: 0;padding: 0.3em;box-sizing: border-box;text-align: center;}#sk-container-id-1 label.sk-toggleable__label-arrow:before {content: \"▸\";float: left;margin-right: 0.25em;color: #696969;}#sk-container-id-1 label.sk-toggleable__label-arrow:hover:before {color: black;}#sk-container-id-1 div.sk-estimator:hover label.sk-toggleable__label-arrow:before {color: black;}#sk-container-id-1 div.sk-toggleable__content {max-height: 0;max-width: 0;overflow: hidden;text-align: left;background-color: #f0f8ff;}#sk-container-id-1 div.sk-toggleable__content pre {margin: 0.2em;color: black;border-radius: 0.25em;background-color: #f0f8ff;}#sk-container-id-1 input.sk-toggleable__control:checked~div.sk-toggleable__content {max-height: 200px;max-width: 100%;overflow: auto;}#sk-container-id-1 input.sk-toggleable__control:checked~label.sk-toggleable__label-arrow:before {content: \"▾\";}#sk-container-id-1 div.sk-estimator input.sk-toggleable__control:checked~label.sk-toggleable__label {background-color: #d4ebff;}#sk-container-id-1 div.sk-label input.sk-toggleable__control:checked~label.sk-toggleable__label {background-color: #d4ebff;}#sk-container-id-1 input.sk-hidden--visually {border: 0;clip: rect(1px 1px 1px 1px);clip: rect(1px, 1px, 1px, 1px);height: 1px;margin: -1px;overflow: hidden;padding: 0;position: absolute;width: 1px;}#sk-container-id-1 div.sk-estimator {font-family: monospace;background-color: #f0f8ff;border: 1px dotted black;border-radius: 0.25em;box-sizing: border-box;margin-bottom: 0.5em;}#sk-container-id-1 div.sk-estimator:hover {background-color: #d4ebff;}#sk-container-id-1 div.sk-parallel-item::after {content: \"\";width: 100%;border-bottom: 1px solid gray;flex-grow: 1;}#sk-container-id-1 div.sk-label:hover label.sk-toggleable__label {background-color: #d4ebff;}#sk-container-id-1 div.sk-serial::before {content: \"\";position: absolute;border-left: 1px solid gray;box-sizing: border-box;top: 0;bottom: 0;left: 50%;z-index: 0;}#sk-container-id-1 div.sk-serial {display: flex;flex-direction: column;align-items: center;background-color: white;padding-right: 0.2em;padding-left: 0.2em;position: relative;}#sk-container-id-1 div.sk-item {position: relative;z-index: 1;}#sk-container-id-1 div.sk-parallel {display: flex;align-items: stretch;justify-content: center;background-color: white;position: relative;}#sk-container-id-1 div.sk-item::before, #sk-container-id-1 div.sk-parallel-item::before {content: \"\";position: absolute;border-left: 1px solid gray;box-sizing: border-box;top: 0;bottom: 0;left: 50%;z-index: -1;}#sk-container-id-1 div.sk-parallel-item {display: flex;flex-direction: column;z-index: 1;position: relative;background-color: white;}#sk-container-id-1 div.sk-parallel-item:first-child::after {align-self: flex-end;width: 50%;}#sk-container-id-1 div.sk-parallel-item:last-child::after {align-self: flex-start;width: 50%;}#sk-container-id-1 div.sk-parallel-item:only-child::after {width: 0;}#sk-container-id-1 div.sk-dashed-wrapped {border: 1px dashed gray;margin: 0 0.4em 0.5em 0.4em;box-sizing: border-box;padding-bottom: 0.4em;background-color: white;}#sk-container-id-1 div.sk-label label {font-family: monospace;font-weight: bold;display: inline-block;line-height: 1.2em;}#sk-container-id-1 div.sk-label-container {text-align: center;}#sk-container-id-1 div.sk-container {/* jupyter's `normalize.less` sets `[hidden] { display: none; }` but bootstrap.min.css set `[hidden] { display: none !important; }` so we also need the `!important` here to be able to override the default hidden behavior on the sphinx rendered scikit-learn.org. See: https://github.com/scikit-learn/scikit-learn/issues/21755 */display: inline-block !important;position: relative;}#sk-container-id-1 div.sk-text-repr-fallback {display: none;}</style><div id=\"sk-container-id-1\" class=\"sk-top-container\"><div class=\"sk-text-repr-fallback\"><pre>ColumnTransformer(transformers=[(&#x27;num&#x27;,\n",
       "                                 Pipeline(steps=[(&#x27;imputer&#x27;, KNNImputer()),\n",
       "                                                 (&#x27;scaler&#x27;, RobustScaler())]),\n",
       "                                 Index([&#x27;hrs&#x27;, &#x27;absences&#x27;, &#x27;JobInvolvement&#x27;, &#x27;EnvironmentSatisfaction&#x27;,\n",
       "       &#x27;JobSatisfaction&#x27;, &#x27;WorkLifeBalance&#x27;, &#x27;Age&#x27;, &#x27;Education&#x27;, &#x27;JobLevel&#x27;,\n",
       "       &#x27;MonthlyIncome&#x27;, &#x27;NumCompaniesWorked&#x27;, &#x27;PercentSalaryHike&#x27;,\n",
       "       &#x27;StockOptionLevel&#x27;, &#x27;TotalWorkingYears&#x27;, &#x27;TrainingTimes...ear&#x27;,\n",
       "       &#x27;YearsAtCompany&#x27;, &#x27;YearsSinceLastPromotion&#x27;, &#x27;YearsWithCurrManager&#x27;],\n",
       "      dtype=&#x27;object&#x27;)),\n",
       "                                (&#x27;cat&#x27;,\n",
       "                                 Pipeline(steps=[(&#x27;imputer&#x27;,\n",
       "                                                  SimpleImputer(strategy=&#x27;most_frequent&#x27;)),\n",
       "                                                 (&#x27;onehot&#x27;,\n",
       "                                                  OneHotEncoder(handle_unknown=&#x27;ignore&#x27;,\n",
       "                                                                sparse_output=False)),\n",
       "                                                 (&#x27;pca&#x27;, PCA(n_components=5))]),\n",
       "                                 Index([&#x27;BusinessTravel&#x27;, &#x27;EducationField&#x27;, &#x27;JobRole&#x27;, &#x27;MaritalStatus&#x27;], dtype=&#x27;object&#x27;))])</pre><b>In a Jupyter environment, please rerun this cell to show the HTML representation or trust the notebook. <br />On GitHub, the HTML representation is unable to render, please try loading this page with nbviewer.org.</b></div><div class=\"sk-container\" hidden><div class=\"sk-item sk-dashed-wrapped\"><div class=\"sk-label-container\"><div class=\"sk-label sk-toggleable\"><input class=\"sk-toggleable__control sk-hidden--visually\" id=\"sk-estimator-id-1\" type=\"checkbox\" ><label for=\"sk-estimator-id-1\" class=\"sk-toggleable__label sk-toggleable__label-arrow\">ColumnTransformer</label><div class=\"sk-toggleable__content\"><pre>ColumnTransformer(transformers=[(&#x27;num&#x27;,\n",
       "                                 Pipeline(steps=[(&#x27;imputer&#x27;, KNNImputer()),\n",
       "                                                 (&#x27;scaler&#x27;, RobustScaler())]),\n",
       "                                 Index([&#x27;hrs&#x27;, &#x27;absences&#x27;, &#x27;JobInvolvement&#x27;, &#x27;EnvironmentSatisfaction&#x27;,\n",
       "       &#x27;JobSatisfaction&#x27;, &#x27;WorkLifeBalance&#x27;, &#x27;Age&#x27;, &#x27;Education&#x27;, &#x27;JobLevel&#x27;,\n",
       "       &#x27;MonthlyIncome&#x27;, &#x27;NumCompaniesWorked&#x27;, &#x27;PercentSalaryHike&#x27;,\n",
       "       &#x27;StockOptionLevel&#x27;, &#x27;TotalWorkingYears&#x27;, &#x27;TrainingTimes...ear&#x27;,\n",
       "       &#x27;YearsAtCompany&#x27;, &#x27;YearsSinceLastPromotion&#x27;, &#x27;YearsWithCurrManager&#x27;],\n",
       "      dtype=&#x27;object&#x27;)),\n",
       "                                (&#x27;cat&#x27;,\n",
       "                                 Pipeline(steps=[(&#x27;imputer&#x27;,\n",
       "                                                  SimpleImputer(strategy=&#x27;most_frequent&#x27;)),\n",
       "                                                 (&#x27;onehot&#x27;,\n",
       "                                                  OneHotEncoder(handle_unknown=&#x27;ignore&#x27;,\n",
       "                                                                sparse_output=False)),\n",
       "                                                 (&#x27;pca&#x27;, PCA(n_components=5))]),\n",
       "                                 Index([&#x27;BusinessTravel&#x27;, &#x27;EducationField&#x27;, &#x27;JobRole&#x27;, &#x27;MaritalStatus&#x27;], dtype=&#x27;object&#x27;))])</pre></div></div></div><div class=\"sk-parallel\"><div class=\"sk-parallel-item\"><div class=\"sk-item\"><div class=\"sk-label-container\"><div class=\"sk-label sk-toggleable\"><input class=\"sk-toggleable__control sk-hidden--visually\" id=\"sk-estimator-id-2\" type=\"checkbox\" ><label for=\"sk-estimator-id-2\" class=\"sk-toggleable__label sk-toggleable__label-arrow\">num</label><div class=\"sk-toggleable__content\"><pre>Index([&#x27;hrs&#x27;, &#x27;absences&#x27;, &#x27;JobInvolvement&#x27;, &#x27;EnvironmentSatisfaction&#x27;,\n",
       "       &#x27;JobSatisfaction&#x27;, &#x27;WorkLifeBalance&#x27;, &#x27;Age&#x27;, &#x27;Education&#x27;, &#x27;JobLevel&#x27;,\n",
       "       &#x27;MonthlyIncome&#x27;, &#x27;NumCompaniesWorked&#x27;, &#x27;PercentSalaryHike&#x27;,\n",
       "       &#x27;StockOptionLevel&#x27;, &#x27;TotalWorkingYears&#x27;, &#x27;TrainingTimesLastYear&#x27;,\n",
       "       &#x27;YearsAtCompany&#x27;, &#x27;YearsSinceLastPromotion&#x27;, &#x27;YearsWithCurrManager&#x27;],\n",
       "      dtype=&#x27;object&#x27;)</pre></div></div></div><div class=\"sk-serial\"><div class=\"sk-item\"><div class=\"sk-serial\"><div class=\"sk-item\"><div class=\"sk-estimator sk-toggleable\"><input class=\"sk-toggleable__control sk-hidden--visually\" id=\"sk-estimator-id-3\" type=\"checkbox\" ><label for=\"sk-estimator-id-3\" class=\"sk-toggleable__label sk-toggleable__label-arrow\">KNNImputer</label><div class=\"sk-toggleable__content\"><pre>KNNImputer()</pre></div></div></div><div class=\"sk-item\"><div class=\"sk-estimator sk-toggleable\"><input class=\"sk-toggleable__control sk-hidden--visually\" id=\"sk-estimator-id-4\" type=\"checkbox\" ><label for=\"sk-estimator-id-4\" class=\"sk-toggleable__label sk-toggleable__label-arrow\">RobustScaler</label><div class=\"sk-toggleable__content\"><pre>RobustScaler()</pre></div></div></div></div></div></div></div></div><div class=\"sk-parallel-item\"><div class=\"sk-item\"><div class=\"sk-label-container\"><div class=\"sk-label sk-toggleable\"><input class=\"sk-toggleable__control sk-hidden--visually\" id=\"sk-estimator-id-5\" type=\"checkbox\" ><label for=\"sk-estimator-id-5\" class=\"sk-toggleable__label sk-toggleable__label-arrow\">cat</label><div class=\"sk-toggleable__content\"><pre>Index([&#x27;BusinessTravel&#x27;, &#x27;EducationField&#x27;, &#x27;JobRole&#x27;, &#x27;MaritalStatus&#x27;], dtype=&#x27;object&#x27;)</pre></div></div></div><div class=\"sk-serial\"><div class=\"sk-item\"><div class=\"sk-serial\"><div class=\"sk-item\"><div class=\"sk-estimator sk-toggleable\"><input class=\"sk-toggleable__control sk-hidden--visually\" id=\"sk-estimator-id-6\" type=\"checkbox\" ><label for=\"sk-estimator-id-6\" class=\"sk-toggleable__label sk-toggleable__label-arrow\">SimpleImputer</label><div class=\"sk-toggleable__content\"><pre>SimpleImputer(strategy=&#x27;most_frequent&#x27;)</pre></div></div></div><div class=\"sk-item\"><div class=\"sk-estimator sk-toggleable\"><input class=\"sk-toggleable__control sk-hidden--visually\" id=\"sk-estimator-id-7\" type=\"checkbox\" ><label for=\"sk-estimator-id-7\" class=\"sk-toggleable__label sk-toggleable__label-arrow\">OneHotEncoder</label><div class=\"sk-toggleable__content\"><pre>OneHotEncoder(handle_unknown=&#x27;ignore&#x27;, sparse_output=False)</pre></div></div></div><div class=\"sk-item\"><div class=\"sk-estimator sk-toggleable\"><input class=\"sk-toggleable__control sk-hidden--visually\" id=\"sk-estimator-id-8\" type=\"checkbox\" ><label for=\"sk-estimator-id-8\" class=\"sk-toggleable__label sk-toggleable__label-arrow\">PCA</label><div class=\"sk-toggleable__content\"><pre>PCA(n_components=5)</pre></div></div></div></div></div></div></div></div></div></div></div></div>"
      ],
      "text/plain": [
       "ColumnTransformer(transformers=[('num',\n",
       "                                 Pipeline(steps=[('imputer', KNNImputer()),\n",
       "                                                 ('scaler', RobustScaler())]),\n",
       "                                 Index(['hrs', 'absences', 'JobInvolvement', 'EnvironmentSatisfaction',\n",
       "       'JobSatisfaction', 'WorkLifeBalance', 'Age', 'Education', 'JobLevel',\n",
       "       'MonthlyIncome', 'NumCompaniesWorked', 'PercentSalaryHike',\n",
       "       'StockOptionLevel', 'TotalWorkingYears', 'TrainingTimes...ear',\n",
       "       'YearsAtCompany', 'YearsSinceLastPromotion', 'YearsWithCurrManager'],\n",
       "      dtype='object')),\n",
       "                                ('cat',\n",
       "                                 Pipeline(steps=[('imputer',\n",
       "                                                  SimpleImputer(strategy='most_frequent')),\n",
       "                                                 ('onehot',\n",
       "                                                  OneHotEncoder(handle_unknown='ignore',\n",
       "                                                                sparse_output=False)),\n",
       "                                                 ('pca', PCA(n_components=5))]),\n",
       "                                 Index(['BusinessTravel', 'EducationField', 'JobRole', 'MaritalStatus'], dtype='object'))])"
      ]
     },
     "execution_count": 8,
     "metadata": {},
     "output_type": "execute_result"
    }
   ],
   "source": [
    "cat_transformer = Pipeline(steps=[\n",
    "    ('imputer', SimpleImputer(strategy='most_frequent')),\n",
    "    ('onehot', OneHotEncoder(handle_unknown='ignore', sparse_output=False)),\n",
    "    ('pca', PCA(n_components=5))\n",
    "])\n",
    "\n",
    "num_transformer = Pipeline(steps=[\n",
    "    ('imputer', KNNImputer(n_neighbors=5)),\n",
    "    ('scaler', RobustScaler())\n",
    "])\n",
    "\n",
    "preprocessor = ColumnTransformer(\n",
    "    transformers=[\n",
    "        ('num', num_transformer, num_cols),\n",
    "        ('cat', cat_transformer, cat_cols)\n",
    "    ])\n",
    "\n",
    "preprocessor"
   ]
  },
  {
   "attachments": {},
   "cell_type": "markdown",
   "metadata": {},
   "source": [
    "## HistGradientBoosting con filtrado"
   ]
  },
  {
   "cell_type": "code",
   "execution_count": 9,
   "metadata": {},
   "outputs": [
    {
     "name": "stdout",
     "output_type": "stream",
     "text": [
      "===========================================================\n",
      "El tiempo de entrenamiento del modelo es 3.031682014465332 segundos\n"
     ]
    }
   ],
   "source": [
    "# Aquí, establecemos nuestro modelo como HistGradientBoostingRegressor\n",
    "modelo_final_gb = HistGradientBoostingClassifier(\n",
    "                                                class_weight='balanced', \n",
    "                                                l2_regularization=0,\n",
    "                                                learning_rate=0.4, \n",
    "                                                max_depth=36,\n",
    "                                                max_leaf_nodes=33, \n",
    "                                                min_samples_leaf=9,\n",
    "                                                random_state=22)\n",
    "\n",
    "\n",
    "# Hacemos el preprocesado y preparamos el modelo en un pipeline\n",
    "modelo_final = Pipeline(steps=[('preprocessor', preprocessor),\n",
    "                               ('classifier', modelo_final_gb)])\n",
    "\n",
    "\n",
    "np.random.seed(22) # Reproductibilidad\n",
    "\n",
    "# Lo entrenamos\n",
    "tiempo_inicio = time.time()\n",
    "modelo_final.fit(X_train, y_train)\n",
    "tiempo_fin = time.time()\n",
    "\n",
    "# Tiempo de ejecución\n",
    "t_mf = tiempo_fin - tiempo_inicio\n",
    "print('===========================================================')\n",
    "print(\"El tiempo de entrenamiento del modelo es\", t_mf, 'segundos')"
   ]
  },
  {
   "attachments": {},
   "cell_type": "markdown",
   "metadata": {},
   "source": [
    "Finalmente, lo guardamos en un fichero .plk y, además, generamos un csv con las predicciones que se tomarían al aplicar nuestro modelo."
   ]
  },
  {
   "cell_type": "code",
   "execution_count": 10,
   "metadata": {},
   "outputs": [],
   "source": [
    "# Para guardar el modelo en un fichero .plk\n",
    "pkl_filename = \"modelo_final.pkl\"\n",
    "with open(pkl_filename, 'wb') as file:\n",
    "    pickle.dump(modelo_final, file)"
   ]
  },
  {
   "cell_type": "code",
   "execution_count": 12,
   "metadata": {},
   "outputs": [],
   "source": [
    "# Para guardar las predicciones en un fichero .csv\n",
    "predicciones = modelo_final.predict(X_test)\n",
    "\n",
    "csv_filename = \"predicciones.csv\"\n",
    "\n",
    "fichero_predicciones = pd.DataFrame(predicciones, columns = ['Predicciones']).to_csv(csv_filename, index=False, header=False)"
   ]
  }
 ],
 "metadata": {
  "kernelspec": {
   "display_name": "Python 3",
   "language": "python",
   "name": "python3"
  },
  "language_info": {
   "codemirror_mode": {
    "name": "ipython",
    "version": 3
   },
   "file_extension": ".py",
   "mimetype": "text/x-python",
   "name": "python",
   "nbconvert_exporter": "python",
   "pygments_lexer": "ipython3",
   "version": "3.11.1"
  },
  "orig_nbformat": 4
 },
 "nbformat": 4,
 "nbformat_minor": 2
}
